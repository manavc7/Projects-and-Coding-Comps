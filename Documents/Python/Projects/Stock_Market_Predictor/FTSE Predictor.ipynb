{
 "cells": [
  {
   "cell_type": "code",
   "execution_count": 80,
   "id": "61caf06a",
   "metadata": {
    "scrolled": true
   },
   "outputs": [],
   "source": [
    "# Import necessary libraries\n",
    "import yfinance as yf \n",
    "from sklearn.model_selection import GridSearchCV\n",
    "from sklearn.metrics import precision_score\n",
    "from sklearn.ensemble import RandomForestClassifier\n",
    "import pandas as pd\n",
    "from xgboost import XGBClassifier\n",
    "from sklearn.ensemble import VotingClassifier"
   ]
  },
  {
   "cell_type": "code",
   "execution_count": 81,
   "id": "fd373f87",
   "metadata": {
    "scrolled": true
   },
   "outputs": [
    {
     "data": {
      "text/html": [
       "<div>\n",
       "<style scoped>\n",
       "    .dataframe tbody tr th:only-of-type {\n",
       "        vertical-align: middle;\n",
       "    }\n",
       "\n",
       "    .dataframe tbody tr th {\n",
       "        vertical-align: top;\n",
       "    }\n",
       "\n",
       "    .dataframe thead th {\n",
       "        text-align: right;\n",
       "    }\n",
       "</style>\n",
       "<table border=\"1\" class=\"dataframe\">\n",
       "  <thead>\n",
       "    <tr style=\"text-align: right;\">\n",
       "      <th></th>\n",
       "      <th>Open</th>\n",
       "      <th>High</th>\n",
       "      <th>Low</th>\n",
       "      <th>Close</th>\n",
       "      <th>Volume</th>\n",
       "      <th>Dividends</th>\n",
       "      <th>Stock Splits</th>\n",
       "    </tr>\n",
       "    <tr>\n",
       "      <th>Date</th>\n",
       "      <th></th>\n",
       "      <th></th>\n",
       "      <th></th>\n",
       "      <th></th>\n",
       "      <th></th>\n",
       "      <th></th>\n",
       "      <th></th>\n",
       "    </tr>\n",
       "  </thead>\n",
       "  <tbody>\n",
       "    <tr>\n",
       "      <th>1984-01-03 00:00:00+00:00</th>\n",
       "      <td>997.500000</td>\n",
       "      <td>1001.400024</td>\n",
       "      <td>997.500000</td>\n",
       "      <td>997.500000</td>\n",
       "      <td>0</td>\n",
       "      <td>0.0</td>\n",
       "      <td>0.0</td>\n",
       "    </tr>\n",
       "    <tr>\n",
       "      <th>1984-01-04 00:00:00+00:00</th>\n",
       "      <td>997.500000</td>\n",
       "      <td>999.500000</td>\n",
       "      <td>993.299988</td>\n",
       "      <td>998.599976</td>\n",
       "      <td>0</td>\n",
       "      <td>0.0</td>\n",
       "      <td>0.0</td>\n",
       "    </tr>\n",
       "    <tr>\n",
       "      <th>1984-01-05 00:00:00+00:00</th>\n",
       "      <td>1007.099976</td>\n",
       "      <td>1015.799988</td>\n",
       "      <td>1007.099976</td>\n",
       "      <td>1015.799988</td>\n",
       "      <td>0</td>\n",
       "      <td>0.0</td>\n",
       "      <td>0.0</td>\n",
       "    </tr>\n",
       "    <tr>\n",
       "      <th>1984-01-06 00:00:00+00:00</th>\n",
       "      <td>1019.000000</td>\n",
       "      <td>1029.300049</td>\n",
       "      <td>1019.000000</td>\n",
       "      <td>1029.000000</td>\n",
       "      <td>0</td>\n",
       "      <td>0.0</td>\n",
       "      <td>0.0</td>\n",
       "    </tr>\n",
       "    <tr>\n",
       "      <th>1984-01-09 00:00:00+00:00</th>\n",
       "      <td>1030.599976</td>\n",
       "      <td>1035.400024</td>\n",
       "      <td>1030.599976</td>\n",
       "      <td>1034.599976</td>\n",
       "      <td>0</td>\n",
       "      <td>0.0</td>\n",
       "      <td>0.0</td>\n",
       "    </tr>\n",
       "    <tr>\n",
       "      <th>...</th>\n",
       "      <td>...</td>\n",
       "      <td>...</td>\n",
       "      <td>...</td>\n",
       "      <td>...</td>\n",
       "      <td>...</td>\n",
       "      <td>...</td>\n",
       "      <td>...</td>\n",
       "    </tr>\n",
       "    <tr>\n",
       "      <th>2024-08-19 00:00:00+01:00</th>\n",
       "      <td>8311.400391</td>\n",
       "      <td>8374.000000</td>\n",
       "      <td>8286.500000</td>\n",
       "      <td>8356.900391</td>\n",
       "      <td>637975500</td>\n",
       "      <td>0.0</td>\n",
       "      <td>0.0</td>\n",
       "    </tr>\n",
       "    <tr>\n",
       "      <th>2024-08-20 00:00:00+01:00</th>\n",
       "      <td>8356.900391</td>\n",
       "      <td>8356.900391</td>\n",
       "      <td>8270.700195</td>\n",
       "      <td>8273.299805</td>\n",
       "      <td>492210300</td>\n",
       "      <td>0.0</td>\n",
       "      <td>0.0</td>\n",
       "    </tr>\n",
       "    <tr>\n",
       "      <th>2024-08-21 00:00:00+01:00</th>\n",
       "      <td>8273.299805</td>\n",
       "      <td>8295.900391</td>\n",
       "      <td>8263.000000</td>\n",
       "      <td>8283.400391</td>\n",
       "      <td>825049200</td>\n",
       "      <td>0.0</td>\n",
       "      <td>0.0</td>\n",
       "    </tr>\n",
       "    <tr>\n",
       "      <th>2024-08-22 00:00:00+01:00</th>\n",
       "      <td>8283.400391</td>\n",
       "      <td>8318.599609</td>\n",
       "      <td>8277.000000</td>\n",
       "      <td>8288.000000</td>\n",
       "      <td>797295800</td>\n",
       "      <td>0.0</td>\n",
       "      <td>0.0</td>\n",
       "    </tr>\n",
       "    <tr>\n",
       "      <th>2024-08-23 00:00:00+01:00</th>\n",
       "      <td>8288.000000</td>\n",
       "      <td>8331.900391</td>\n",
       "      <td>8288.000000</td>\n",
       "      <td>8327.799805</td>\n",
       "      <td>615482100</td>\n",
       "      <td>0.0</td>\n",
       "      <td>0.0</td>\n",
       "    </tr>\n",
       "  </tbody>\n",
       "</table>\n",
       "<p>10267 rows × 7 columns</p>\n",
       "</div>"
      ],
      "text/plain": [
       "                                  Open         High          Low        Close  \\\n",
       "Date                                                                            \n",
       "1984-01-03 00:00:00+00:00   997.500000  1001.400024   997.500000   997.500000   \n",
       "1984-01-04 00:00:00+00:00   997.500000   999.500000   993.299988   998.599976   \n",
       "1984-01-05 00:00:00+00:00  1007.099976  1015.799988  1007.099976  1015.799988   \n",
       "1984-01-06 00:00:00+00:00  1019.000000  1029.300049  1019.000000  1029.000000   \n",
       "1984-01-09 00:00:00+00:00  1030.599976  1035.400024  1030.599976  1034.599976   \n",
       "...                                ...          ...          ...          ...   \n",
       "2024-08-19 00:00:00+01:00  8311.400391  8374.000000  8286.500000  8356.900391   \n",
       "2024-08-20 00:00:00+01:00  8356.900391  8356.900391  8270.700195  8273.299805   \n",
       "2024-08-21 00:00:00+01:00  8273.299805  8295.900391  8263.000000  8283.400391   \n",
       "2024-08-22 00:00:00+01:00  8283.400391  8318.599609  8277.000000  8288.000000   \n",
       "2024-08-23 00:00:00+01:00  8288.000000  8331.900391  8288.000000  8327.799805   \n",
       "\n",
       "                              Volume  Dividends  Stock Splits  \n",
       "Date                                                           \n",
       "1984-01-03 00:00:00+00:00          0        0.0           0.0  \n",
       "1984-01-04 00:00:00+00:00          0        0.0           0.0  \n",
       "1984-01-05 00:00:00+00:00          0        0.0           0.0  \n",
       "1984-01-06 00:00:00+00:00          0        0.0           0.0  \n",
       "1984-01-09 00:00:00+00:00          0        0.0           0.0  \n",
       "...                              ...        ...           ...  \n",
       "2024-08-19 00:00:00+01:00  637975500        0.0           0.0  \n",
       "2024-08-20 00:00:00+01:00  492210300        0.0           0.0  \n",
       "2024-08-21 00:00:00+01:00  825049200        0.0           0.0  \n",
       "2024-08-22 00:00:00+01:00  797295800        0.0           0.0  \n",
       "2024-08-23 00:00:00+01:00  615482100        0.0           0.0  \n",
       "\n",
       "[10267 rows x 7 columns]"
      ]
     },
     "execution_count": 81,
     "metadata": {},
     "output_type": "execute_result"
    }
   ],
   "source": [
    "# Fetch historical data for S&P 500\n",
    "sp500 = yf.Ticker(\"^FTSE\")\n",
    "sp500 = sp500.history(period=\"max\")\n",
    "sp500"
   ]
  },
  {
   "cell_type": "code",
   "execution_count": 82,
   "id": "e02f28f5",
   "metadata": {},
   "outputs": [],
   "source": [
    "# Drop unnecessary columns\n",
    "del sp500[\"Stock Splits\"]\n",
    "del sp500[\"Dividends\"]"
   ]
  },
  {
   "cell_type": "code",
   "execution_count": 83,
   "id": "839d35aa",
   "metadata": {},
   "outputs": [],
   "source": [
    "# Create target variable: whether the open price of the next day is higher than the close price of today\n",
    "sp500[\"Open_Tomorrow\"] = sp500[\"Close\"].shift(-1)\n",
    "sp500[\"Target\"] = (sp500[\"Open_Tomorrow\"] > sp500[\"Close\"]).astype(int)"
   ]
  },
  {
   "cell_type": "code",
   "execution_count": 85,
   "id": "3cba1224",
   "metadata": {
    "scrolled": true
   },
   "outputs": [
    {
     "data": {
      "text/html": [
       "<div>\n",
       "<style scoped>\n",
       "    .dataframe tbody tr th:only-of-type {\n",
       "        vertical-align: middle;\n",
       "    }\n",
       "\n",
       "    .dataframe tbody tr th {\n",
       "        vertical-align: top;\n",
       "    }\n",
       "\n",
       "    .dataframe thead th {\n",
       "        text-align: right;\n",
       "    }\n",
       "</style>\n",
       "<table border=\"1\" class=\"dataframe\">\n",
       "  <thead>\n",
       "    <tr style=\"text-align: right;\">\n",
       "      <th></th>\n",
       "      <th>Open</th>\n",
       "      <th>High</th>\n",
       "      <th>Low</th>\n",
       "      <th>Close</th>\n",
       "      <th>Volume</th>\n",
       "      <th>Open_Tomorrow</th>\n",
       "      <th>Target</th>\n",
       "    </tr>\n",
       "    <tr>\n",
       "      <th>Date</th>\n",
       "      <th></th>\n",
       "      <th></th>\n",
       "      <th></th>\n",
       "      <th></th>\n",
       "      <th></th>\n",
       "      <th></th>\n",
       "      <th></th>\n",
       "    </tr>\n",
       "  </thead>\n",
       "  <tbody>\n",
       "    <tr>\n",
       "      <th>2000-01-04 00:00:00+00:00</th>\n",
       "      <td>6930.200195</td>\n",
       "      <td>6930.200195</td>\n",
       "      <td>6662.899902</td>\n",
       "      <td>6665.899902</td>\n",
       "      <td>633449000</td>\n",
       "      <td>6535.899902</td>\n",
       "      <td>0</td>\n",
       "    </tr>\n",
       "    <tr>\n",
       "      <th>2000-01-05 00:00:00+00:00</th>\n",
       "      <td>6665.899902</td>\n",
       "      <td>6665.899902</td>\n",
       "      <td>6500.399902</td>\n",
       "      <td>6535.899902</td>\n",
       "      <td>670234000</td>\n",
       "      <td>6447.200195</td>\n",
       "      <td>0</td>\n",
       "    </tr>\n",
       "    <tr>\n",
       "      <th>2000-01-06 00:00:00+00:00</th>\n",
       "      <td>6535.899902</td>\n",
       "      <td>6547.299805</td>\n",
       "      <td>6424.399902</td>\n",
       "      <td>6447.200195</td>\n",
       "      <td>785532000</td>\n",
       "      <td>6504.799805</td>\n",
       "      <td>1</td>\n",
       "    </tr>\n",
       "    <tr>\n",
       "      <th>2000-01-07 00:00:00+00:00</th>\n",
       "      <td>6447.200195</td>\n",
       "      <td>6532.399902</td>\n",
       "      <td>6438.799805</td>\n",
       "      <td>6504.799805</td>\n",
       "      <td>888306000</td>\n",
       "      <td>6607.700195</td>\n",
       "      <td>1</td>\n",
       "    </tr>\n",
       "    <tr>\n",
       "      <th>2000-01-10 00:00:00+00:00</th>\n",
       "      <td>6504.799805</td>\n",
       "      <td>6634.200195</td>\n",
       "      <td>6504.799805</td>\n",
       "      <td>6607.700195</td>\n",
       "      <td>735455000</td>\n",
       "      <td>6518.899902</td>\n",
       "      <td>0</td>\n",
       "    </tr>\n",
       "    <tr>\n",
       "      <th>...</th>\n",
       "      <td>...</td>\n",
       "      <td>...</td>\n",
       "      <td>...</td>\n",
       "      <td>...</td>\n",
       "      <td>...</td>\n",
       "      <td>...</td>\n",
       "      <td>...</td>\n",
       "    </tr>\n",
       "    <tr>\n",
       "      <th>2024-08-19 00:00:00+01:00</th>\n",
       "      <td>8311.400391</td>\n",
       "      <td>8374.000000</td>\n",
       "      <td>8286.500000</td>\n",
       "      <td>8356.900391</td>\n",
       "      <td>637975500</td>\n",
       "      <td>8273.299805</td>\n",
       "      <td>0</td>\n",
       "    </tr>\n",
       "    <tr>\n",
       "      <th>2024-08-20 00:00:00+01:00</th>\n",
       "      <td>8356.900391</td>\n",
       "      <td>8356.900391</td>\n",
       "      <td>8270.700195</td>\n",
       "      <td>8273.299805</td>\n",
       "      <td>492210300</td>\n",
       "      <td>8283.400391</td>\n",
       "      <td>1</td>\n",
       "    </tr>\n",
       "    <tr>\n",
       "      <th>2024-08-21 00:00:00+01:00</th>\n",
       "      <td>8273.299805</td>\n",
       "      <td>8295.900391</td>\n",
       "      <td>8263.000000</td>\n",
       "      <td>8283.400391</td>\n",
       "      <td>825049200</td>\n",
       "      <td>8288.000000</td>\n",
       "      <td>1</td>\n",
       "    </tr>\n",
       "    <tr>\n",
       "      <th>2024-08-22 00:00:00+01:00</th>\n",
       "      <td>8283.400391</td>\n",
       "      <td>8318.599609</td>\n",
       "      <td>8277.000000</td>\n",
       "      <td>8288.000000</td>\n",
       "      <td>797295800</td>\n",
       "      <td>8327.799805</td>\n",
       "      <td>1</td>\n",
       "    </tr>\n",
       "    <tr>\n",
       "      <th>2024-08-23 00:00:00+01:00</th>\n",
       "      <td>8288.000000</td>\n",
       "      <td>8331.900391</td>\n",
       "      <td>8288.000000</td>\n",
       "      <td>8327.799805</td>\n",
       "      <td>615482100</td>\n",
       "      <td>NaN</td>\n",
       "      <td>0</td>\n",
       "    </tr>\n",
       "  </tbody>\n",
       "</table>\n",
       "<p>6225 rows × 7 columns</p>\n",
       "</div>"
      ],
      "text/plain": [
       "                                  Open         High          Low        Close  \\\n",
       "Date                                                                            \n",
       "2000-01-04 00:00:00+00:00  6930.200195  6930.200195  6662.899902  6665.899902   \n",
       "2000-01-05 00:00:00+00:00  6665.899902  6665.899902  6500.399902  6535.899902   \n",
       "2000-01-06 00:00:00+00:00  6535.899902  6547.299805  6424.399902  6447.200195   \n",
       "2000-01-07 00:00:00+00:00  6447.200195  6532.399902  6438.799805  6504.799805   \n",
       "2000-01-10 00:00:00+00:00  6504.799805  6634.200195  6504.799805  6607.700195   \n",
       "...                                ...          ...          ...          ...   \n",
       "2024-08-19 00:00:00+01:00  8311.400391  8374.000000  8286.500000  8356.900391   \n",
       "2024-08-20 00:00:00+01:00  8356.900391  8356.900391  8270.700195  8273.299805   \n",
       "2024-08-21 00:00:00+01:00  8273.299805  8295.900391  8263.000000  8283.400391   \n",
       "2024-08-22 00:00:00+01:00  8283.400391  8318.599609  8277.000000  8288.000000   \n",
       "2024-08-23 00:00:00+01:00  8288.000000  8331.900391  8288.000000  8327.799805   \n",
       "\n",
       "                              Volume  Open_Tomorrow  Target  \n",
       "Date                                                         \n",
       "2000-01-04 00:00:00+00:00  633449000    6535.899902       0  \n",
       "2000-01-05 00:00:00+00:00  670234000    6447.200195       0  \n",
       "2000-01-06 00:00:00+00:00  785532000    6504.799805       1  \n",
       "2000-01-07 00:00:00+00:00  888306000    6607.700195       1  \n",
       "2000-01-10 00:00:00+00:00  735455000    6518.899902       0  \n",
       "...                              ...            ...     ...  \n",
       "2024-08-19 00:00:00+01:00  637975500    8273.299805       0  \n",
       "2024-08-20 00:00:00+01:00  492210300    8283.400391       1  \n",
       "2024-08-21 00:00:00+01:00  825049200    8288.000000       1  \n",
       "2024-08-22 00:00:00+01:00  797295800    8327.799805       1  \n",
       "2024-08-23 00:00:00+01:00  615482100            NaN       0  \n",
       "\n",
       "[6225 rows x 7 columns]"
      ]
     },
     "execution_count": 85,
     "metadata": {},
     "output_type": "execute_result"
    }
   ],
   "source": [
    "# Select data from 2000 onwards\n",
    "sp500 = sp500.loc[\"2000-01-01\":].copy()\n",
    "sp500"
   ]
  },
  {
   "cell_type": "code",
   "execution_count": 86,
   "id": "9ce8ae21",
   "metadata": {
    "scrolled": true
   },
   "outputs": [],
   "source": [
    "# Initialize and train a RandomForest model\n",
    "model = RandomForestClassifier(n_estimators=100, min_samples_split=100, random_state=1)\n",
    "\n"
   ]
  },
  {
   "cell_type": "code",
   "execution_count": 87,
   "id": "9f781516",
   "metadata": {},
   "outputs": [],
   "source": [
    "# Define training and testing datasets\n",
    "train = sp500.iloc[:-100]\n",
    "test = sp500.iloc[-100:]"
   ]
  },
  {
   "cell_type": "code",
   "execution_count": 88,
   "id": "75564e77",
   "metadata": {},
   "outputs": [],
   "source": [
    "# Define predictors\n",
    "predictors = [\"Close\", \"Volume\", \"Open\", \"High\", \"Low\"]"
   ]
  },
  {
   "cell_type": "code",
   "execution_count": 89,
   "id": "3d5a4698",
   "metadata": {},
   "outputs": [
    {
     "data": {
      "text/html": [
       "<style>#sk-container-id-3 {color: black;background-color: white;}#sk-container-id-3 pre{padding: 0;}#sk-container-id-3 div.sk-toggleable {background-color: white;}#sk-container-id-3 label.sk-toggleable__label {cursor: pointer;display: block;width: 100%;margin-bottom: 0;padding: 0.3em;box-sizing: border-box;text-align: center;}#sk-container-id-3 label.sk-toggleable__label-arrow:before {content: \"▸\";float: left;margin-right: 0.25em;color: #696969;}#sk-container-id-3 label.sk-toggleable__label-arrow:hover:before {color: black;}#sk-container-id-3 div.sk-estimator:hover label.sk-toggleable__label-arrow:before {color: black;}#sk-container-id-3 div.sk-toggleable__content {max-height: 0;max-width: 0;overflow: hidden;text-align: left;background-color: #f0f8ff;}#sk-container-id-3 div.sk-toggleable__content pre {margin: 0.2em;color: black;border-radius: 0.25em;background-color: #f0f8ff;}#sk-container-id-3 input.sk-toggleable__control:checked~div.sk-toggleable__content {max-height: 200px;max-width: 100%;overflow: auto;}#sk-container-id-3 input.sk-toggleable__control:checked~label.sk-toggleable__label-arrow:before {content: \"▾\";}#sk-container-id-3 div.sk-estimator input.sk-toggleable__control:checked~label.sk-toggleable__label {background-color: #d4ebff;}#sk-container-id-3 div.sk-label input.sk-toggleable__control:checked~label.sk-toggleable__label {background-color: #d4ebff;}#sk-container-id-3 input.sk-hidden--visually {border: 0;clip: rect(1px 1px 1px 1px);clip: rect(1px, 1px, 1px, 1px);height: 1px;margin: -1px;overflow: hidden;padding: 0;position: absolute;width: 1px;}#sk-container-id-3 div.sk-estimator {font-family: monospace;background-color: #f0f8ff;border: 1px dotted black;border-radius: 0.25em;box-sizing: border-box;margin-bottom: 0.5em;}#sk-container-id-3 div.sk-estimator:hover {background-color: #d4ebff;}#sk-container-id-3 div.sk-parallel-item::after {content: \"\";width: 100%;border-bottom: 1px solid gray;flex-grow: 1;}#sk-container-id-3 div.sk-label:hover label.sk-toggleable__label {background-color: #d4ebff;}#sk-container-id-3 div.sk-serial::before {content: \"\";position: absolute;border-left: 1px solid gray;box-sizing: border-box;top: 0;bottom: 0;left: 50%;z-index: 0;}#sk-container-id-3 div.sk-serial {display: flex;flex-direction: column;align-items: center;background-color: white;padding-right: 0.2em;padding-left: 0.2em;position: relative;}#sk-container-id-3 div.sk-item {position: relative;z-index: 1;}#sk-container-id-3 div.sk-parallel {display: flex;align-items: stretch;justify-content: center;background-color: white;position: relative;}#sk-container-id-3 div.sk-item::before, #sk-container-id-3 div.sk-parallel-item::before {content: \"\";position: absolute;border-left: 1px solid gray;box-sizing: border-box;top: 0;bottom: 0;left: 50%;z-index: -1;}#sk-container-id-3 div.sk-parallel-item {display: flex;flex-direction: column;z-index: 1;position: relative;background-color: white;}#sk-container-id-3 div.sk-parallel-item:first-child::after {align-self: flex-end;width: 50%;}#sk-container-id-3 div.sk-parallel-item:last-child::after {align-self: flex-start;width: 50%;}#sk-container-id-3 div.sk-parallel-item:only-child::after {width: 0;}#sk-container-id-3 div.sk-dashed-wrapped {border: 1px dashed gray;margin: 0 0.4em 0.5em 0.4em;box-sizing: border-box;padding-bottom: 0.4em;background-color: white;}#sk-container-id-3 div.sk-label label {font-family: monospace;font-weight: bold;display: inline-block;line-height: 1.2em;}#sk-container-id-3 div.sk-label-container {text-align: center;}#sk-container-id-3 div.sk-container {/* jupyter's `normalize.less` sets `[hidden] { display: none; }` but bootstrap.min.css set `[hidden] { display: none !important; }` so we also need the `!important` here to be able to override the default hidden behavior on the sphinx rendered scikit-learn.org. See: https://github.com/scikit-learn/scikit-learn/issues/21755 */display: inline-block !important;position: relative;}#sk-container-id-3 div.sk-text-repr-fallback {display: none;}</style><div id=\"sk-container-id-3\" class=\"sk-top-container\"><div class=\"sk-text-repr-fallback\"><pre>RandomForestClassifier(min_samples_split=100, random_state=1)</pre><b><br />On GitHub, the HTML representation is unable to render, please try loading this page with nbviewer.org.</b></div><div class=\"sk-container\" hidden><div class=\"sk-item\"><div class=\"sk-estimator sk-toggleable\"><input class=\"sk-toggleable__control sk-hidden--visually\" id=\"sk-estimator-id-3\" type=\"checkbox\" checked><label for=\"sk-estimator-id-3\" class=\"sk-toggleable__label sk-toggleable__label-arrow\">RandomForestClassifier</label><div class=\"sk-toggleable__content\"><pre>RandomForestClassifier(min_samples_split=100, random_state=1)</pre></div></div></div></div></div>"
      ],
      "text/plain": [
       "RandomForestClassifier(min_samples_split=100, random_state=1)"
      ]
     },
     "execution_count": 89,
     "metadata": {},
     "output_type": "execute_result"
    }
   ],
   "source": [
    "# Fit the model on the training data\n",
    "model.fit(train[predictors], train[\"Target\"])"
   ]
  },
  {
   "cell_type": "code",
   "execution_count": 90,
   "id": "32d0c526",
   "metadata": {},
   "outputs": [],
   "source": [
    "# Make predictions on the test set\n",
    "preds = model.predict(test[predictors])"
   ]
  },
  {
   "cell_type": "code",
   "execution_count": 91,
   "id": "6165c998",
   "metadata": {},
   "outputs": [],
   "source": [
    "# Convert predictions to a pandas Series for ease of analysis\n",
    "preds = pd.Series(preds, index=test.index)"
   ]
  },
  {
   "cell_type": "code",
   "execution_count": 92,
   "id": "4111726a",
   "metadata": {
    "scrolled": false
   },
   "outputs": [
    {
     "data": {
      "text/plain": [
       "0.6"
      ]
     },
     "execution_count": 92,
     "metadata": {},
     "output_type": "execute_result"
    }
   ],
   "source": [
    "# Evaluate initial model performance\n",
    "precision_score(test[\"Target\"], preds)"
   ]
  },
  {
   "cell_type": "code",
   "execution_count": 93,
   "id": "76aba9bd",
   "metadata": {},
   "outputs": [],
   "source": [
    "# Combine actual and predicted values for further analysis\n",
    "combined = pd.concat([test[\"Target\"], preds], axis=1)"
   ]
  },
  {
   "cell_type": "code",
   "execution_count": 94,
   "id": "e0891a51",
   "metadata": {},
   "outputs": [],
   "source": [
    "# Function to fit model and make predictions\n",
    "def predict(train, test, predictors, model):\n",
    "    model.fit(train[predictors], train[\"Target\"])\n",
    "    preds = model.predict(test[predictors])\n",
    "    preds = pd.Series(preds, index=test.index, name=\"Predictions\")\n",
    "    combined = pd.concat([test[\"Target\"], preds], axis=1)\n",
    "    return combined"
   ]
  },
  {
   "cell_type": "code",
   "execution_count": 95,
   "id": "f9d4d504",
   "metadata": {},
   "outputs": [],
   "source": [
    "# Function to perform backtesting\n",
    "def backtest(data, model, predictors, start=2500, step=250):\n",
    "    all_predictions = []\n",
    "    \n",
    "    for i in range(start, data.shape[0], step):\n",
    "        train = data.iloc[0:i].copy()\n",
    "        test = data.iloc[i:(i+step)].copy()\n",
    "        predictions = predict(train, test, predictors, model)\n",
    "        all_predictions.append(predictions)\n",
    "    return pd.concat(all_predictions)\n",
    "    "
   ]
  },
  {
   "cell_type": "code",
   "execution_count": 96,
   "id": "29230bb2",
   "metadata": {},
   "outputs": [],
   "source": [
    "# Perform backtesting\n",
    "predictions = backtest(sp500, model, predictors)"
   ]
  },
  {
   "cell_type": "code",
   "execution_count": 97,
   "id": "45129a38",
   "metadata": {
    "scrolled": true
   },
   "outputs": [
    {
     "data": {
      "text/plain": [
       "0    2182\n",
       "1    1543\n",
       "Name: Predictions, dtype: int64"
      ]
     },
     "execution_count": 97,
     "metadata": {},
     "output_type": "execute_result"
    }
   ],
   "source": [
    "# Analyze predictions\n",
    "predictions[\"Predictions\"].value_counts()"
   ]
  },
  {
   "cell_type": "code",
   "execution_count": 98,
   "id": "fe7d1b09",
   "metadata": {},
   "outputs": [
    {
     "data": {
      "text/plain": [
       "0.5418016850291639"
      ]
     },
     "execution_count": 98,
     "metadata": {},
     "output_type": "execute_result"
    }
   ],
   "source": [
    "precision_score(predictions[\"Target\"], predictions[\"Predictions\"])"
   ]
  },
  {
   "cell_type": "code",
   "execution_count": 99,
   "id": "7114ec83",
   "metadata": {},
   "outputs": [],
   "source": [
    "# Define horizons for feature engineering\n",
    "horizons = [2,5,60,250,1000]\n",
    "new_predictors = []\n",
    "\n",
    "for horizon in horizons:\n",
    "    rolling_averages = sp500.rolling(horizon).mean()\n",
    "    \n",
    "    ratio_column = f\"Close_Ratio_{horizon}\"\n",
    "    sp500[ratio_column] = sp500[\"Close\"] / rolling_averages[\"Close\"]\n",
    "    \n",
    "    trend_column = f\"Trend_{horizon}\"\n",
    "    sp500[trend_column] = sp500.shift(1).rolling(horizon).sum()[\"Target\"]\n",
    "    \n",
    "    new_predictors += [ratio_column, trend_column]\n",
    "\n",
    "new_predictors += predictors"
   ]
  },
  {
   "cell_type": "code",
   "execution_count": 100,
   "id": "d7e8739d",
   "metadata": {},
   "outputs": [],
   "source": [
    "# Drop rows with NaN values resulting from feature engineering\n",
    "sp500 = sp500.dropna()"
   ]
  },
  {
   "cell_type": "code",
   "execution_count": 101,
   "id": "fa25bd7a",
   "metadata": {},
   "outputs": [],
   "source": [
    "# Initialize and train a new RandomForest model with updated parameters\n",
    "model = RandomForestClassifier(n_estimators=200, min_samples_split=50, random_state=1)"
   ]
  },
  {
   "cell_type": "code",
   "execution_count": 102,
   "id": "f3fbc48e",
   "metadata": {},
   "outputs": [],
   "source": [
    "# Perform backtesting with new features\n",
    "predictions = backtest(sp500, model, new_predictors)"
   ]
  },
  {
   "cell_type": "code",
   "execution_count": 103,
   "id": "59f4ac4f",
   "metadata": {
    "scrolled": true
   },
   "outputs": [
    {
     "data": {
      "text/plain": [
       "0    1534\n",
       "1    1190\n",
       "Name: Predictions, dtype: int64"
      ]
     },
     "execution_count": 103,
     "metadata": {},
     "output_type": "execute_result"
    }
   ],
   "source": [
    "# Analyze predictions following new features\n",
    "predictions[\"Predictions\"].value_counts()"
   ]
  },
  {
   "cell_type": "code",
   "execution_count": 104,
   "id": "af20ad62",
   "metadata": {
    "scrolled": true
   },
   "outputs": [
    {
     "data": {
      "text/plain": [
       "0.5470588235294118"
      ]
     },
     "execution_count": 104,
     "metadata": {},
     "output_type": "execute_result"
    }
   ],
   "source": [
    "precision_score(predictions[\"Target\"], predictions[\"Predictions\"])"
   ]
  },
  {
   "cell_type": "code",
   "execution_count": 105,
   "id": "eb8dea9c",
   "metadata": {},
   "outputs": [],
   "source": [
    "# Refine further with ensemble approach"
   ]
  },
  {
   "cell_type": "code",
   "execution_count": 106,
   "id": "fb54f8e2",
   "metadata": {
    "scrolled": true
   },
   "outputs": [],
   "source": [
    "# Define multiple models to start ensemble approach\n",
    "xgb_model = XGBClassifier()\n",
    "rf_model = RandomForestClassifier(n_estimators=200, min_samples_split=50, random_state=1)"
   ]
  },
  {
   "cell_type": "code",
   "execution_count": 107,
   "id": "222ae61c",
   "metadata": {},
   "outputs": [],
   "source": [
    "# Ensemble model\n",
    "ensemble_model = VotingClassifier(estimators=[('rf', rf_model), ('xgb', xgb_model)], voting='soft')"
   ]
  },
  {
   "cell_type": "code",
   "execution_count": 108,
   "id": "7e9c28a9",
   "metadata": {},
   "outputs": [],
   "source": [
    "# Train and predict using the ensemble model\n",
    "ensemble_model.fit(train[predictors], train[\"Target\"])\n",
    "ensemble_preds = ensemble_model.predict_proba(test[predictors])[:, 1]"
   ]
  },
  {
   "cell_type": "code",
   "execution_count": 109,
   "id": "20ac7dd2",
   "metadata": {},
   "outputs": [],
   "source": [
    "# Convert probabilities to binary predictions\n",
    "ensemble_preds[ensemble_preds >= 0.6] = 1\n",
    "ensemble_preds[ensemble_preds < 0.6] = 0"
   ]
  },
  {
   "cell_type": "code",
   "execution_count": 110,
   "id": "3c823ffc",
   "metadata": {
    "scrolled": true
   },
   "outputs": [
    {
     "name": "stdout",
     "output_type": "stream",
     "text": [
      "Ensemble Precision Score: 0.5\n"
     ]
    }
   ],
   "source": [
    "# Evaluate ensemble model\n",
    "ensemble_precision = precision_score(test[\"Target\"], ensemble_preds)\n",
    "print(\"Ensemble Precision Score:\", ensemble_precision)"
   ]
  },
  {
   "cell_type": "code",
   "execution_count": 111,
   "id": "78ae3747",
   "metadata": {},
   "outputs": [],
   "source": [
    "# Prepare the latest available data\n",
    "latest_data = sp500.iloc[-1:]  # Get the most recent row of data"
   ]
  },
  {
   "cell_type": "code",
   "execution_count": 112,
   "id": "fe67c858",
   "metadata": {},
   "outputs": [],
   "source": [
    "# Calculate new features for the latest data\n",
    "latest_data = latest_data.copy()\n",
    "\n",
    "for horizon in horizons:\n",
    "    rolling_averages = sp500.rolling(horizon).mean()\n",
    "    \n",
    "    ratio_column = f\"Close_Ratio_{horizon}\"\n",
    "    trend_column = f\"Trend_{horizon}\"\n",
    "    \n",
    "    # Calculate the ratio and trend\n",
    "    latest_data[ratio_column] = latest_data[\"Close\"] / rolling_averages[\"Close\"].iloc[-1]\n",
    "    latest_data[trend_column] = latest_data.shift(1).rolling(horizon).sum()[\"Target\"].iloc[-1]"
   ]
  },
  {
   "cell_type": "code",
   "execution_count": 113,
   "id": "7c413a1c",
   "metadata": {},
   "outputs": [],
   "source": [
    "# Ensure the latest_data has all predictors\n",
    "latest_data = latest_data[predictors]"
   ]
  },
  {
   "cell_type": "code",
   "execution_count": 114,
   "id": "ef3ddd48",
   "metadata": {},
   "outputs": [],
   "source": [
    "# Use the trained ensemble model to make predictions\n",
    "latest_preds = ensemble_model.predict_proba(latest_data)[:, 1]  # Probability of the positive class\n",
    "latest_preds_binary = (latest_preds >= 0.6).astype(int)  # Convert to binary prediction"
   ]
  },
  {
   "cell_type": "code",
   "execution_count": 115,
   "id": "4c77f1ad",
   "metadata": {},
   "outputs": [
    {
     "data": {
      "text/plain": [
       "'Predicted probability for the next day: 0.321754560998294'"
      ]
     },
     "execution_count": 115,
     "metadata": {},
     "output_type": "execute_result"
    }
   ],
   "source": [
    "f\"Predicted probability for the next day: {latest_preds[0]}\""
   ]
  },
  {
   "cell_type": "code",
   "execution_count": 116,
   "id": "a7778a6b",
   "metadata": {
    "scrolled": false
   },
   "outputs": [
    {
     "data": {
      "text/plain": [
       "'Binary prediction (1 for up, 0 for down): 0'"
      ]
     },
     "execution_count": 116,
     "metadata": {},
     "output_type": "execute_result"
    }
   ],
   "source": [
    "f\"Binary prediction (1 for up, 0 for down): {latest_preds_binary[0]}\""
   ]
  }
 ],
 "metadata": {
  "kernelspec": {
   "display_name": "Python 3 (ipykernel)",
   "language": "python",
   "name": "python3"
  },
  "language_info": {
   "codemirror_mode": {
    "name": "ipython",
    "version": 3
   },
   "file_extension": ".py",
   "mimetype": "text/x-python",
   "name": "python",
   "nbconvert_exporter": "python",
   "pygments_lexer": "ipython3",
   "version": "3.11.4"
  }
 },
 "nbformat": 4,
 "nbformat_minor": 5
}
