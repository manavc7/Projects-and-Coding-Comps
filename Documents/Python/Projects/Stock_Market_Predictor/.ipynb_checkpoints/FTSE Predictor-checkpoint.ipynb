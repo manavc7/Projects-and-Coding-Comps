{
 "cells": [
  {
   "cell_type": "code",
   "execution_count": 56,
   "id": "61caf06a",
   "metadata": {
    "scrolled": true
   },
   "outputs": [],
   "source": [
    "# Import necessary libraries\n",
    "import yfinance as yf \n",
    "from sklearn.model_selection import GridSearchCV\n",
    "from sklearn.metrics import precision_score\n",
    "from sklearn.ensemble import RandomForestClassifier\n",
    "import pandas as pd\n",
    "from xgboost import XGBClassifier\n",
    "from sklearn.ensemble import VotingClassifier"
   ]
  },
  {
   "cell_type": "code",
   "execution_count": 57,
   "id": "fd373f87",
   "metadata": {
    "scrolled": true
   },
   "outputs": [],
   "source": [
    "# Fetch historical data for S&P 500\n",
    "sp500 = yf.Ticker(\"^GSPC\")\n",
    "sp500 = sp500.history(period=\"max\")"
   ]
  },
  {
   "cell_type": "code",
   "execution_count": 58,
   "id": "e02f28f5",
   "metadata": {},
   "outputs": [],
   "source": [
    "# Drop unnecessary columns\n",
    "del sp500[\"Stock Splits\"]\n",
    "del sp500[\"Dividends\"]"
   ]
  },
  {
   "cell_type": "code",
   "execution_count": 59,
   "id": "839d35aa",
   "metadata": {},
   "outputs": [],
   "source": [
    "# Create target variable: whether the open price of the next day is higher than the close price of today\n",
    "sp500[\"Open_Tomorrow\"] = sp500[\"Open\"].shift(-1)\n",
    "sp500[\"Target\"] = (sp500[\"Open_Tomorrow\"] > sp500[\"Close\"]).astype(int)"
   ]
  },
  {
   "cell_type": "code",
   "execution_count": 60,
   "id": "3cba1224",
   "metadata": {},
   "outputs": [],
   "source": [
    "# Select data from 1990 onwards\n",
    "sp500 = sp500.loc[\"1990-01-01\":].copy()"
   ]
  },
  {
   "cell_type": "code",
   "execution_count": 61,
   "id": "9ce8ae21",
   "metadata": {
    "scrolled": true
   },
   "outputs": [],
   "source": [
    "# Initialize and train a RandomForest model\n",
    "model = RandomForestClassifier(n_estimators=100, min_samples_split=100, random_state=1)\n",
    "\n"
   ]
  },
  {
   "cell_type": "code",
   "execution_count": 62,
   "id": "9f781516",
   "metadata": {},
   "outputs": [],
   "source": [
    "# Define training and testing datasets\n",
    "train = sp500.iloc[:-100]\n",
    "test = sp500.iloc[-100:]"
   ]
  },
  {
   "cell_type": "code",
   "execution_count": 63,
   "id": "75564e77",
   "metadata": {},
   "outputs": [],
   "source": [
    "# Define predictors\n",
    "predictors = [\"Close\", \"Volume\", \"Open\", \"High\", \"Low\"]"
   ]
  },
  {
   "cell_type": "code",
   "execution_count": 64,
   "id": "3d5a4698",
   "metadata": {},
   "outputs": [
    {
     "data": {
      "text/html": [
       "<style>#sk-container-id-1 {color: black;background-color: white;}#sk-container-id-1 pre{padding: 0;}#sk-container-id-1 div.sk-toggleable {background-color: white;}#sk-container-id-1 label.sk-toggleable__label {cursor: pointer;display: block;width: 100%;margin-bottom: 0;padding: 0.3em;box-sizing: border-box;text-align: center;}#sk-container-id-1 label.sk-toggleable__label-arrow:before {content: \"▸\";float: left;margin-right: 0.25em;color: #696969;}#sk-container-id-1 label.sk-toggleable__label-arrow:hover:before {color: black;}#sk-container-id-1 div.sk-estimator:hover label.sk-toggleable__label-arrow:before {color: black;}#sk-container-id-1 div.sk-toggleable__content {max-height: 0;max-width: 0;overflow: hidden;text-align: left;background-color: #f0f8ff;}#sk-container-id-1 div.sk-toggleable__content pre {margin: 0.2em;color: black;border-radius: 0.25em;background-color: #f0f8ff;}#sk-container-id-1 input.sk-toggleable__control:checked~div.sk-toggleable__content {max-height: 200px;max-width: 100%;overflow: auto;}#sk-container-id-1 input.sk-toggleable__control:checked~label.sk-toggleable__label-arrow:before {content: \"▾\";}#sk-container-id-1 div.sk-estimator input.sk-toggleable__control:checked~label.sk-toggleable__label {background-color: #d4ebff;}#sk-container-id-1 div.sk-label input.sk-toggleable__control:checked~label.sk-toggleable__label {background-color: #d4ebff;}#sk-container-id-1 input.sk-hidden--visually {border: 0;clip: rect(1px 1px 1px 1px);clip: rect(1px, 1px, 1px, 1px);height: 1px;margin: -1px;overflow: hidden;padding: 0;position: absolute;width: 1px;}#sk-container-id-1 div.sk-estimator {font-family: monospace;background-color: #f0f8ff;border: 1px dotted black;border-radius: 0.25em;box-sizing: border-box;margin-bottom: 0.5em;}#sk-container-id-1 div.sk-estimator:hover {background-color: #d4ebff;}#sk-container-id-1 div.sk-parallel-item::after {content: \"\";width: 100%;border-bottom: 1px solid gray;flex-grow: 1;}#sk-container-id-1 div.sk-label:hover label.sk-toggleable__label {background-color: #d4ebff;}#sk-container-id-1 div.sk-serial::before {content: \"\";position: absolute;border-left: 1px solid gray;box-sizing: border-box;top: 0;bottom: 0;left: 50%;z-index: 0;}#sk-container-id-1 div.sk-serial {display: flex;flex-direction: column;align-items: center;background-color: white;padding-right: 0.2em;padding-left: 0.2em;position: relative;}#sk-container-id-1 div.sk-item {position: relative;z-index: 1;}#sk-container-id-1 div.sk-parallel {display: flex;align-items: stretch;justify-content: center;background-color: white;position: relative;}#sk-container-id-1 div.sk-item::before, #sk-container-id-1 div.sk-parallel-item::before {content: \"\";position: absolute;border-left: 1px solid gray;box-sizing: border-box;top: 0;bottom: 0;left: 50%;z-index: -1;}#sk-container-id-1 div.sk-parallel-item {display: flex;flex-direction: column;z-index: 1;position: relative;background-color: white;}#sk-container-id-1 div.sk-parallel-item:first-child::after {align-self: flex-end;width: 50%;}#sk-container-id-1 div.sk-parallel-item:last-child::after {align-self: flex-start;width: 50%;}#sk-container-id-1 div.sk-parallel-item:only-child::after {width: 0;}#sk-container-id-1 div.sk-dashed-wrapped {border: 1px dashed gray;margin: 0 0.4em 0.5em 0.4em;box-sizing: border-box;padding-bottom: 0.4em;background-color: white;}#sk-container-id-1 div.sk-label label {font-family: monospace;font-weight: bold;display: inline-block;line-height: 1.2em;}#sk-container-id-1 div.sk-label-container {text-align: center;}#sk-container-id-1 div.sk-container {/* jupyter's `normalize.less` sets `[hidden] { display: none; }` but bootstrap.min.css set `[hidden] { display: none !important; }` so we also need the `!important` here to be able to override the default hidden behavior on the sphinx rendered scikit-learn.org. See: https://github.com/scikit-learn/scikit-learn/issues/21755 */display: inline-block !important;position: relative;}#sk-container-id-1 div.sk-text-repr-fallback {display: none;}</style><div id=\"sk-container-id-1\" class=\"sk-top-container\"><div class=\"sk-text-repr-fallback\"><pre>RandomForestClassifier(min_samples_split=100, random_state=1)</pre><b>In a Jupyter environment, please rerun this cell to show the HTML representation or trust the notebook. <br />On GitHub, the HTML representation is unable to render, please try loading this page with nbviewer.org.</b></div><div class=\"sk-container\" hidden><div class=\"sk-item\"><div class=\"sk-estimator sk-toggleable\"><input class=\"sk-toggleable__control sk-hidden--visually\" id=\"sk-estimator-id-1\" type=\"checkbox\" checked><label for=\"sk-estimator-id-1\" class=\"sk-toggleable__label sk-toggleable__label-arrow\">RandomForestClassifier</label><div class=\"sk-toggleable__content\"><pre>RandomForestClassifier(min_samples_split=100, random_state=1)</pre></div></div></div></div></div>"
      ],
      "text/plain": [
       "RandomForestClassifier(min_samples_split=100, random_state=1)"
      ]
     },
     "execution_count": 64,
     "metadata": {},
     "output_type": "execute_result"
    }
   ],
   "source": [
    "# Fit the model on the training data\n",
    "model.fit(train[predictors], train[\"Target\"])"
   ]
  },
  {
   "cell_type": "code",
   "execution_count": 65,
   "id": "32d0c526",
   "metadata": {},
   "outputs": [],
   "source": [
    "# Make predictions on the test set\n",
    "preds = model.predict(test[predictors])"
   ]
  },
  {
   "cell_type": "code",
   "execution_count": 66,
   "id": "6165c998",
   "metadata": {},
   "outputs": [],
   "source": [
    "# Convert predictions to a pandas Series for ease of analysis\n",
    "preds = pd.Series(preds, index=test.index)"
   ]
  },
  {
   "cell_type": "code",
   "execution_count": 67,
   "id": "4111726a",
   "metadata": {
    "scrolled": false
   },
   "outputs": [
    {
     "data": {
      "text/plain": [
       "0.67"
      ]
     },
     "execution_count": 67,
     "metadata": {},
     "output_type": "execute_result"
    }
   ],
   "source": [
    "# Evaluate initial model performance\n",
    "precision_score(test[\"Target\"], preds)"
   ]
  },
  {
   "cell_type": "code",
   "execution_count": 68,
   "id": "76aba9bd",
   "metadata": {},
   "outputs": [],
   "source": [
    "# Combine actual and predicted values for further analysis\n",
    "combined = pd.concat([test[\"Target\"], preds], axis=1)"
   ]
  },
  {
   "cell_type": "code",
   "execution_count": 69,
   "id": "e0891a51",
   "metadata": {},
   "outputs": [],
   "source": [
    "# Function to fit model and make predictions\n",
    "def predict(train, test, predictors, model):\n",
    "    model.fit(train[predictors], train[\"Target\"])\n",
    "    preds = model.predict(test[predictors])\n",
    "    preds = pd.Series(preds, index=test.index, name=\"Predictions\")\n",
    "    combined = pd.concat([test[\"Target\"], preds], axis=1)\n",
    "    return combined"
   ]
  },
  {
   "cell_type": "code",
   "execution_count": 70,
   "id": "f9d4d504",
   "metadata": {},
   "outputs": [],
   "source": [
    "# Function to perform backtesting\n",
    "def backtest(data, model, predictors, start=2500, step=250):\n",
    "    all_predictions = []\n",
    "    \n",
    "    for i in range(start, data.shape[0], step):\n",
    "        train = data.iloc[0:i].copy()\n",
    "        test = data.iloc[i:(i+step)].copy()\n",
    "        predictions = predict(train, test, predictors, model)\n",
    "        all_predictions.append(predictions)\n",
    "    return pd.concat(all_predictions)\n",
    "    "
   ]
  },
  {
   "cell_type": "code",
   "execution_count": 71,
   "id": "29230bb2",
   "metadata": {},
   "outputs": [],
   "source": [
    "# Perform backtesting\n",
    "predictions = backtest(sp500, model, predictors)"
   ]
  },
  {
   "cell_type": "code",
   "execution_count": 72,
   "id": "45129a38",
   "metadata": {
    "scrolled": true
   },
   "outputs": [
    {
     "data": {
      "text/plain": [
       "0    4235\n",
       "1    1993\n",
       "Name: Predictions, dtype: int64"
      ]
     },
     "execution_count": 72,
     "metadata": {},
     "output_type": "execute_result"
    }
   ],
   "source": [
    "# Analyze predictions\n",
    "predictions[\"Predictions\"].value_counts()"
   ]
  },
  {
   "cell_type": "code",
   "execution_count": 73,
   "id": "fe7d1b09",
   "metadata": {},
   "outputs": [
    {
     "data": {
      "text/plain": [
       "0.5594581033617662"
      ]
     },
     "execution_count": 73,
     "metadata": {},
     "output_type": "execute_result"
    }
   ],
   "source": [
    "precision_score(predictions[\"Target\"], predictions[\"Predictions\"])"
   ]
  },
  {
   "cell_type": "code",
   "execution_count": 74,
   "id": "7114ec83",
   "metadata": {},
   "outputs": [],
   "source": [
    "# Define horizons for feature engineering\n",
    "horizons = [2,5,60,250,1000]\n",
    "new_predictors = []\n",
    "\n",
    "for horizon in horizons:\n",
    "    rolling_averages = sp500.rolling(horizon).mean()\n",
    "    \n",
    "    ratio_column = f\"Close_Ratio_{horizon}\"\n",
    "    sp500[ratio_column] = sp500[\"Close\"] / rolling_averages[\"Close\"]\n",
    "    \n",
    "    trend_column = f\"Trend_{horizon}\"\n",
    "    sp500[trend_column] = sp500.shift(1).rolling(horizon).sum()[\"Target\"]\n",
    "    \n",
    "    new_predictors += [ratio_column, trend_column]\n",
    "\n",
    "new_predictors += predictors"
   ]
  },
  {
   "cell_type": "code",
   "execution_count": 75,
   "id": "d7e8739d",
   "metadata": {},
   "outputs": [],
   "source": [
    "# Drop rows with NaN values resulting from feature engineering\n",
    "sp500 = sp500.dropna()"
   ]
  },
  {
   "cell_type": "code",
   "execution_count": 76,
   "id": "fa25bd7a",
   "metadata": {},
   "outputs": [],
   "source": [
    "# Initialize and train a new RandomForest model with updated parameters\n",
    "model = RandomForestClassifier(n_estimators=200, min_samples_split=50, random_state=1)"
   ]
  },
  {
   "cell_type": "code",
   "execution_count": 77,
   "id": "f3fbc48e",
   "metadata": {},
   "outputs": [],
   "source": [
    "# Perform backtesting with new features\n",
    "predictions = backtest(sp500, model, new_predictors)"
   ]
  },
  {
   "cell_type": "code",
   "execution_count": 78,
   "id": "59f4ac4f",
   "metadata": {
    "scrolled": true
   },
   "outputs": [
    {
     "data": {
      "text/plain": [
       "0    3508\n",
       "1    1719\n",
       "Name: Predictions, dtype: int64"
      ]
     },
     "execution_count": 78,
     "metadata": {},
     "output_type": "execute_result"
    }
   ],
   "source": [
    "# Analyze predictions following new features\n",
    "predictions[\"Predictions\"].value_counts()"
   ]
  },
  {
   "cell_type": "code",
   "execution_count": 79,
   "id": "af20ad62",
   "metadata": {
    "scrolled": true
   },
   "outputs": [
    {
     "data": {
      "text/plain": [
       "0.5532286212914486"
      ]
     },
     "execution_count": 79,
     "metadata": {},
     "output_type": "execute_result"
    }
   ],
   "source": [
    "precision_score(predictions[\"Target\"], predictions[\"Predictions\"])"
   ]
  },
  {
   "cell_type": "code",
   "execution_count": 80,
   "id": "eb8dea9c",
   "metadata": {},
   "outputs": [],
   "source": [
    "# Refine further with ensemble approach"
   ]
  },
  {
   "cell_type": "code",
   "execution_count": 81,
   "id": "fb54f8e2",
   "metadata": {
    "scrolled": true
   },
   "outputs": [],
   "source": [
    "# Define multiple models to start ensemble approach\n",
    "xgb_model = XGBClassifier()\n",
    "rf_model = RandomForestClassifier(n_estimators=200, min_samples_split=50, random_state=1)"
   ]
  },
  {
   "cell_type": "code",
   "execution_count": 82,
   "id": "222ae61c",
   "metadata": {},
   "outputs": [],
   "source": [
    "# Ensemble model\n",
    "ensemble_model = VotingClassifier(estimators=[('rf', rf_model), ('xgb', xgb_model)], voting='soft')"
   ]
  },
  {
   "cell_type": "code",
   "execution_count": 83,
   "id": "7e9c28a9",
   "metadata": {},
   "outputs": [],
   "source": [
    "# Train and predict using the ensemble model\n",
    "ensemble_model.fit(train[predictors], train[\"Target\"])\n",
    "ensemble_preds = ensemble_model.predict_proba(test[predictors])[:, 1]"
   ]
  },
  {
   "cell_type": "code",
   "execution_count": 84,
   "id": "20ac7dd2",
   "metadata": {},
   "outputs": [],
   "source": [
    "# Convert probabilities to binary predictions\n",
    "ensemble_preds[ensemble_preds >= 0.6] = 1\n",
    "ensemble_preds[ensemble_preds < 0.6] = 0"
   ]
  },
  {
   "cell_type": "code",
   "execution_count": 85,
   "id": "3c823ffc",
   "metadata": {
    "scrolled": true
   },
   "outputs": [
    {
     "name": "stdout",
     "output_type": "stream",
     "text": [
      "Ensemble Precision Score: 0.6481481481481481\n"
     ]
    }
   ],
   "source": [
    "# Evaluate ensemble model\n",
    "ensemble_precision = precision_score(test[\"Target\"], ensemble_preds)\n",
    "print(\"Ensemble Precision Score:\", ensemble_precision)"
   ]
  },
  {
   "cell_type": "code",
   "execution_count": 86,
   "id": "78ae3747",
   "metadata": {},
   "outputs": [],
   "source": [
    "# Prepare the latest available data\n",
    "latest_data = sp500.iloc[-1:]  # Get the most recent row of data"
   ]
  },
  {
   "cell_type": "code",
   "execution_count": 87,
   "id": "fe67c858",
   "metadata": {},
   "outputs": [],
   "source": [
    "# Calculate new features for the latest data\n",
    "latest_data = latest_data.copy()\n",
    "\n",
    "for horizon in horizons:\n",
    "    rolling_averages = sp500.rolling(horizon).mean()\n",
    "    \n",
    "    ratio_column = f\"Close_Ratio_{horizon}\"\n",
    "    trend_column = f\"Trend_{horizon}\"\n",
    "    \n",
    "    # Calculate the ratio and trend\n",
    "    latest_data[ratio_column] = latest_data[\"Close\"] / rolling_averages[\"Close\"].iloc[-1]\n",
    "    latest_data[trend_column] = latest_data.shift(1).rolling(horizon).sum()[\"Target\"].iloc[-1]"
   ]
  },
  {
   "cell_type": "code",
   "execution_count": 88,
   "id": "7c413a1c",
   "metadata": {},
   "outputs": [],
   "source": [
    "# Ensure the latest_data has all predictors\n",
    "latest_data = latest_data[predictors]"
   ]
  },
  {
   "cell_type": "code",
   "execution_count": 89,
   "id": "ef3ddd48",
   "metadata": {},
   "outputs": [],
   "source": [
    "# Use the trained ensemble model to make predictions\n",
    "latest_preds = ensemble_model.predict_proba(latest_data)[:, 1]  # Probability of the positive class\n",
    "latest_preds_binary = (latest_preds >= 0.6).astype(int)  # Convert to binary prediction"
   ]
  },
  {
   "cell_type": "code",
   "execution_count": 90,
   "id": "4c77f1ad",
   "metadata": {},
   "outputs": [
    {
     "data": {
      "text/plain": [
       "'Predicted probability for the next day: 0.636097538650341'"
      ]
     },
     "execution_count": 90,
     "metadata": {},
     "output_type": "execute_result"
    }
   ],
   "source": [
    "f\"Predicted probability for the next day: {latest_preds[0]}\""
   ]
  },
  {
   "cell_type": "code",
   "execution_count": 91,
   "id": "a7778a6b",
   "metadata": {
    "scrolled": false
   },
   "outputs": [
    {
     "data": {
      "text/plain": [
       "'Binary prediction (1 for up, 0 for down): 1'"
      ]
     },
     "execution_count": 91,
     "metadata": {},
     "output_type": "execute_result"
    }
   ],
   "source": [
    "f\"Binary prediction (1 for up, 0 for down): {latest_preds_binary[0]}\""
   ]
  }
 ],
 "metadata": {
  "kernelspec": {
   "display_name": "Python 3 (ipykernel)",
   "language": "python",
   "name": "python3"
  },
  "language_info": {
   "codemirror_mode": {
    "name": "ipython",
    "version": 3
   },
   "file_extension": ".py",
   "mimetype": "text/x-python",
   "name": "python",
   "nbconvert_exporter": "python",
   "pygments_lexer": "ipython3",
   "version": "3.11.4"
  }
 },
 "nbformat": 4,
 "nbformat_minor": 5
}
